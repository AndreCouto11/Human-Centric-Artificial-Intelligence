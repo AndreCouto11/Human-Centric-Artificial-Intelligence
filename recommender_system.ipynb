{
 "cells": [
  {
   "cell_type": "markdown",
   "metadata": {},
   "source": [
    "\n",
    "<h2><font color='#3498db'>Daily Activity Recommender System</font></h2>"
   ]
  },
  {
   "cell_type": "code",
   "execution_count": 2,
   "metadata": {},
   "outputs": [
    {
     "name": "stderr",
     "output_type": "stream",
     "text": [
      "C:\\Users\\andre\\AppData\\Local\\Packages\\PythonSoftwareFoundation.Python.3.9_qbz5n2kfra8p0\\LocalCache\\local-packages\\Python39\\site-packages\\scipy\\__init__.py:155: UserWarning: A NumPy version >=1.18.5 and <1.25.0 is required for this version of SciPy (detected version 1.26.1\n",
      "  warnings.warn(f\"A NumPy version >={np_minversion} and <{np_maxversion}\"\n"
     ]
    }
   ],
   "source": [
    "from sklearn.feature_extraction.text import TfidfVectorizer\n",
    "from sklearn.metrics.pairwise import linear_kernel\n",
    "from sklearn.model_selection import train_test_split\n",
    "from sklearn.linear_model import LinearRegression\n",
    "import pandas as pd\n",
    "import numpy as np\n"
   ]
  },
  {
   "cell_type": "markdown",
   "metadata": {},
   "source": [
    "# Collaborative Filtering"
   ]
  },
  {
   "cell_type": "markdown",
   "metadata": {},
   "source": [
    "The most prominent approach to generate recommendations:\n",
    "- used by large, commercial e-commerce sites\n",
    "- well-understood, various algorithms and variations exist\n",
    "- applicable in many domains (book, movies, DVDs, ..)\n",
    "\n",
    "Approach\n",
    "- use the \"wisdom of the crowd\" to recommend items\n",
    " \n",
    " Basic assumption and idea\n",
    "- Users give ratings to catalog items (implicitly or explicitly)\n",
    "- Customers who had similar tastes in the past, will have similar tastes in the\n",
    "future"
   ]
  },
  {
   "cell_type": "markdown",
   "metadata": {},
   "source": [
    "## User-based nearest-neighbor collaborative filtering (1)\n",
    "\n",
    "The basic technique:\n",
    "- Given an \"active user\" (Alice) and an item I not yet seen by Alice\n",
    "- The goal is to estimate Alice's rating for this item, e.g., by \n",
    "   -  find a set of users (peers) who liked the same items as Alice in the past and\n",
    "who have rated item I\n",
    "   - use, e.g. the average of their ratings to predict, if Alice will like item I\n",
    "   - do this for all items Alice has not seen and recommend the best-rated"
   ]
  },
  {
   "cell_type": "markdown",
   "metadata": {},
   "source": [
    "(on this context: Identify the active user and the target activity: The active user is the person for whom we want to make recommendations, and the target activity is an activity that the active user has not yet rated.\n",
    "\n",
    "Find the peers: The peers are users who have similar preferences to the active user. This similarity can be determined using various measures, such as Pearson correlation or cosine similarity. The peers are typically those who have rated many of the same activities as the active user and whose ratings strongly correlate with the active user’s ratings.\n",
    "\n",
    "Estimate the active user’s rating for the target activity: This is typically done by taking a weighted average of the peers’ ratings for the target activity. The weights are usually the similarity scores between the active user and each peer. If a peer has a higher similarity score with the active user, their rating for the target activity will have a greater influence on the estimated rating.\n",
    "\n",
    "Recommend activities: Repeat step 3 for all activities that the active user has not yet rated. Then, recommend the activities with the highest estimated ratings.\n",
    "\n",
    "In this way, this algorithm leverages the “wisdom of the crowd” to make personalized recommendations for each user. It assumes that if two users agree on one issue (an activity), they are likely to agree on others as well.)"
   ]
  },
  {
   "cell_type": "code",
   "execution_count": null,
   "metadata": {},
   "outputs": [],
   "source": [
    "import pandas as pd\n",
    "from scipy.spatial.distance import correlation\n",
    "from sklearn.metrics.pairwise import pairwise_distances\n",
    "\n",
    "df = pd.read_csv('dataset_activities.csv')\n",
    "df = df[['Name', 'Activity']]\n",
    "\n",
    "# Create a user-item matrix\n",
    "user_item_matrix = df.pivot_table(index='Name', columns='Activity', aggfunc=len, fill_value=0)\n",
    "\n",
    "# Calculate the similarity between users\n",
    "user_similarity = 1 - pairwise_distances(user_item_matrix.values, metric='correlation')\n",
    "user_similarity_df = pd.DataFrame(user_similarity, index=user_item_matrix.index, columns=user_item_matrix.index)\n",
    "\n",
    "def recommend_activities(user, n_recommendations):\n",
    "    # Get the users sorted by similarity to the input user\n",
    "    similar_users = user_similarity_df[user].sort_values(ascending=False)\n",
    "    \n",
    "    # Get the activities rated by the input user\n",
    "    user_activities = set(df[df['Name'] == user]['Activity'])\n",
    "    \n",
    "    recommendations = {}\n",
    "    \n",
    "    for similar_user in similar_users.index:\n",
    "        if similar_user == user: continue  # Skip the input user\n",
    "        \n",
    "        # Get the activities rated by the similar user\n",
    "        similar_user_activities = set(df[df['Name'] == similar_user]['Activity'])\n",
    "        \n",
    "        # Get the activities not yet seen by the input user\n",
    "        new_activities = similar_user_activities - user_activities\n",
    "        \n",
    "        for activity in new_activities:\n",
    "            if activity not in recommendations:\n",
    "                recommendations[activity] = similar_users[similar_user]\n",
    "            else:\n",
    "                recommendations[activity] += similar_users[similar_user]\n",
    "    \n",
    "    # Sort the recommendations by total similarity of users who rated each activity\n",
    "    sorted_recommendations = sorted(recommendations.items(), key=lambda x: x[1], reverse=True)\n",
    "    \n",
    "    return sorted_recommendations[:n_recommendations]\n",
    "\n",
    "\n"
   ]
  },
  {
   "cell_type": "markdown",
   "metadata": {},
   "source": [
    "### Evaluations with test"
   ]
  },
  {
   "cell_type": "code",
   "execution_count": null,
   "metadata": {},
   "outputs": [
    {
     "name": "stdout",
     "output_type": "stream",
     "text": [
      "Alice, who likes outdoor_activities:  [('Surfing', 1.7455437562764877), ('Rafting', 1.7455437562764877), ('Scuba Diving ', 1.7455437562764877), ('Massage ', 1.4092942817723075), ('Facial Treatment', 1.4092942817723075)]\n",
      "John, who likes physical_activities:  [('Kite Flying', 1.9384828877177775), ('Skiing ', 1.9384828877177775), ('Kayaking', 1.78122851618871), ('Surfing', 1.750492342298556), ('Scuba Diving ', 1.750492342298556)]\n",
      "Jane, who likes artistic_activities:  [('Beach Volleyball', 1.8857701003741063), ('Kite Flying', 1.6933393949814877), ('Skiing ', 1.6933393949814877), ('Kayaking', 1.608708024180279), ('Surfing', 1.5156538744049295)]\n",
      "Doe, who likes night_activities:  [('Meditation Retreat ', 2.587913384404243), ('Beach Volleyball', 2.5160807726041), ('Kite Flying', 2.2882538064327904), ('Skiing ', 2.2882538064327904), ('Kayaking', 2.171845692026657)]\n",
      "Bob, who likes water_activities:  [('Skiing ', 1.7306406263562555), ('Kite Flying', 1.7306406263562555), ('Beach Volleyball', 1.6731220315740232), ('Meditation Retreat ', 1.57158770309231), ('Snowboarding ', 1.1808849905981262)]\n",
      "Charlie, who likes sports_activities:  [('Meditation Retreat ', 1.9231258046187136), ('Kayaking', 1.9066842731862428), ('Ice Skating', 1.3573695325902304), ('Rock Climbing ', 1.3573695325902304), ('Sightseeing ', 1.3547650058058593)]\n",
      "Eve, who likes home_activities:  [('Meditation Retreat ', 2.0125776184595687), ('Beach Volleyball', 1.8760213468463054), ('Kite Flying', 1.6830294951611549), ('Skiing ', 1.6830294951611549), ('Kayaking', 1.616118212823786)]\n",
      "Mallory, who likes extreme_activities:  [('Beach Volleyball', 1.7154253394271475), ('Meditation Retreat ', 1.51697646526895), ('Sailing', 1.2576337558433952), ('Fishing ', 1.1983926473027298), ('Tennis', 1.1790452138630452)]\n"
     ]
    }
   ],
   "source": [
    "print('Alice, who likes outdoor_activities: ', recommend_activities('Alice', 5))\n",
    "print('John, who likes physical_activities: ',recommend_activities('John', 5))\n",
    "print('Jane, who likes artistic_activities: ',recommend_activities('Jane', 5))\n",
    "print('Doe, who likes night_activities: ',recommend_activities('Doe', 5))\n",
    "print('Bob, who likes water_activities: ',recommend_activities('Bob', 5))\n",
    "print('Charlie, who likes sports_activities: ',recommend_activities('Charlie', 5))\n",
    "print('Eve, who likes home_activities: ',recommend_activities('Eve', 5))\n",
    "print('Mallory, who likes extreme_activities: ',recommend_activities('Mallory', 5))\n"
   ]
  },
  {
   "cell_type": "markdown",
   "metadata": {},
   "source": [
    "The numbers next to each activity (e.g., 1.7455437562764877 for ‘Scuba Diving’) are the scores for each recommended activity. These scores are calculated as the sum of similarities between the user and all other users who have liked each activity. The higher the score, the stronger the recommendation."
   ]
  },
  {
   "cell_type": "markdown",
   "metadata": {},
   "source": [
    "No knowledgeengineering effort, serendipity of results, learns market segments"
   ]
  },
  {
   "cell_type": "markdown",
   "metadata": {},
   "source": [
    "# Item-based collaborative filtering\n",
    "\n",
    "Basic idea:\n",
    "- Use the similarity between items (and not users) to make predictions\n",
    "\n",
    "Example:\n",
    "- Look for items that are similar to Item5\n",
    "- Take Alice's ratings for these items to predict the rating for Item5"
   ]
  },
  {
   "cell_type": "code",
   "execution_count": null,
   "metadata": {},
   "outputs": [],
   "source": [
    "import pandas as pd\n",
    "from sklearn.metrics.pairwise import cosine_similarity\n",
    "from scipy import sparse\n",
    "\n",
    "df = pd.read_csv('dataset_activities.csv')\n",
    "\n",
    "activity_matrix = pd.get_dummies(df['Activity'])\n",
    "user_activity_matrix = pd.concat([df['Name'], activity_matrix], axis=1)\n",
    "\n",
    "\n",
    "sparse_matrix = sparse.csr_matrix(user_activity_matrix.drop('Name', axis=1).values)\n",
    "\n",
    "# Calculate cosine similarity\n",
    "item_similarity = cosine_similarity(sparse_matrix.T)\n",
    "\n",
    "# Wrap the similarities in a DataFrame\n",
    "item_similarity_df = pd.DataFrame(item_similarity, index=user_activity_matrix.columns[1:], columns=user_activity_matrix.columns[1:])\n",
    "\n",
    "def recommend_activities1(user, top_n=5):\n",
    "    # Get the activities done by the user\n",
    "    user_activities = df[df['Name'] == user]['Activity']\n",
    "\n",
    "    # Calculate a similarity score for each activity\n",
    "    similarity_score = item_similarity_df[user_activities].mean(axis=1)\n",
    "\n",
    "    # Get the top n activities\n",
    "    top_activities = similarity_score.nlargest(top_n)\n",
    "\n",
    "    return top_activities.index.tolist()\n"
   ]
  },
  {
   "cell_type": "code",
   "execution_count": null,
   "metadata": {},
   "outputs": [
    {
     "name": "stdout",
     "output_type": "stream",
     "text": [
      "Alice, who likes outdoor_activities:  ['Stargazing', 'Hiking ', 'Walking the dog', 'Movie Watching', 'Potluck Dinner']\n",
      "John, who likes physical_activities:  ['Walking the dog', 'Movie Watching', 'Potluck Dinner', 'Stargazing', 'Hiking ']\n",
      "Jane, who likes artistic_activities:  ['Movie Watching', 'Potluck Dinner', 'Stargazing', 'Hiking ', 'Walking the dog']\n",
      "Doe, who likes night_activities:  ['Movie Watching', 'Walking the dog', 'Potluck Dinner', 'Hiking ', 'Stargazing']\n",
      "Bob, who likes water_activities:  ['Stargazing', 'Hiking ', 'Walking the dog', 'Movie Watching', 'Potluck Dinner']\n",
      "Charlie, who likes sports_activities:  ['Hiking ', 'Walking the dog', 'Stargazing', 'Potluck Dinner', 'Movie Watching']\n",
      "Eve, who likes home_activities:  ['Potluck Dinner', 'Hiking ', 'Movie Watching', 'Stargazing', 'Walking the dog']\n",
      "Mallory, who likes extreme_activities:  ['Movie Watching', 'Scuba Diving ', 'Walking the dog', 'Hiking ', 'Stargazing']\n"
     ]
    }
   ],
   "source": [
    "print('Alice, who likes outdoor_activities: ', recommend_activities1('Alice', 5))\n",
    "print('John, who likes physical_activities: ',recommend_activities1('John', 5))\n",
    "print('Jane, who likes artistic_activities: ',recommend_activities1('Jane', 5))\n",
    "print('Doe, who likes night_activities: ',recommend_activities1('Doe', 5))\n",
    "print('Bob, who likes water_activities: ',recommend_activities1('Bob', 5))\n",
    "print('Charlie, who likes sports_activities: ',recommend_activities1('Charlie', 5))\n",
    "print('Eve, who likes home_activities: ',recommend_activities1('Eve', 5))\n",
    "print('Mallory, who likes extreme_activities: ',recommend_activities1('Mallory', 5))\n"
   ]
  },
  {
   "cell_type": "markdown",
   "metadata": {},
   "source": [
    "This is not performing really well\n",
    "\n",
    "Let's add some randomness into the recommendations, while still keeping the cosine similarity as the main factor"
   ]
  },
  {
   "cell_type": "code",
   "execution_count": null,
   "metadata": {},
   "outputs": [
    {
     "name": "stdout",
     "output_type": "stream",
     "text": [
      "['Hiking ', 'Movie Watching', 'Walking the dog', 'Stargazing', 'Fruit Picking']\n"
     ]
    }
   ],
   "source": [
    "import pandas as pd\n",
    "from sklearn.metrics.pairwise import cosine_similarity\n",
    "from scipy import sparse\n",
    "\n",
    "activity_matrix = pd.get_dummies(df['Activity'])\n",
    "user_activity_matrix = pd.concat([df['Name'], activity_matrix], axis=1)\n",
    "\n",
    "\n",
    "sparse_matrix = sparse.csr_matrix(user_activity_matrix.drop('Name', axis=1).values)\n",
    "\n",
    "# Calculate cosine similarity\n",
    "item_similarity = cosine_similarity(sparse_matrix.T)\n",
    "\n",
    "# Wrap the similarities in a DataFrame\n",
    "item_similarity_df = pd.DataFrame(item_similarity, index=user_activity_matrix.columns[1:], columns=user_activity_matrix.columns[1:])\n",
    "\n",
    "\n",
    "\n",
    "def recommend_activities2(user, top_n=5):\n",
    "    # Get the activities done by the user\n",
    "    user_activities = df[df['Name'] == user]['Activity']\n",
    "\n",
    "    # Calculate a similarity score for each activity\n",
    "    similarity_score = item_similarity_df[user_activities].mean(axis=1)\n",
    "\n",
    "    # Introduce some randomness\n",
    "    random_factor = np.random.rand(len(similarity_score))\n",
    "    adjusted_similarity_score = similarity_score * random_factor\n",
    "\n",
    "    # Get the top n activities\n",
    "    top_activities = adjusted_similarity_score.nlargest(top_n)\n",
    "\n",
    "    return top_activities.index.tolist()\n",
    "\n",
    "\n",
    "# Test the function\n",
    "print(recommend_activities2('Alice'))"
   ]
  },
  {
   "cell_type": "code",
   "execution_count": null,
   "metadata": {},
   "outputs": [
    {
     "name": "stdout",
     "output_type": "stream",
     "text": [
      "Alice, who likes outdoor_activities:  ['Stargazing', 'Walking the dog', 'Movie Watching', 'Fencing ', 'Antique Shopping']\n",
      "John, who likes physical_activities:  ['Hiking ', 'Walking the dog', 'Stargazing', 'Spa Day  ', 'Tennis']\n",
      "Jane, who likes artistic_activities:  ['Movie Watching', 'Walking the dog', 'Hiking ', 'Magic Show Attendance', 'Potluck Dinner']\n",
      "Doe, who likes night_activities:  ['Potluck Dinner', 'Movie Watching', 'Stargazing', 'Hiking ', 'Walking the dog']\n",
      "Bob, who likes water_activities:  ['Potluck Dinner', 'Whale Watching', 'Stargazing', 'Canoeing', 'Swimming']\n",
      "Charlie, who likes sports_activities:  ['Stargazing', 'Hiking ', 'Walking the dog', 'Potluck Dinner', 'Skiing ']\n",
      "Eve, who likes home_activities:  ['Movie Watching', 'Walking the dog', 'Potluck Dinner', 'Hot Spring Bath', 'Painting ']\n",
      "Mallory, who likes extreme_activities:  ['Walking the dog', 'Stargazing', 'Kite Flying', 'Ice Skating', 'Movie Watching']\n"
     ]
    }
   ],
   "source": [
    "print('Alice, who likes outdoor_activities: ', recommend_activities2('Alice', 5))\n",
    "print('John, who likes physical_activities: ',recommend_activities2('John', 5))\n",
    "print('Jane, who likes artistic_activities: ',recommend_activities2('Jane', 5))\n",
    "print('Doe, who likes night_activities: ',recommend_activities2('Doe', 5))\n",
    "print('Bob, who likes water_activities: ',recommend_activities2('Bob', 5))\n",
    "print('Charlie, who likes sports_activities: ',recommend_activities2('Charlie', 5))\n",
    "print('Eve, who likes home_activities: ',recommend_activities2('Eve', 5))\n",
    "print('Mallory, who likes extreme_activities: ',recommend_activities2('Mallory', 5))"
   ]
  },
  {
   "cell_type": "markdown",
   "metadata": {},
   "source": [
    "Is it possible that our dataset is sparse? Let's see"
   ]
  },
  {
   "cell_type": "code",
   "execution_count": null,
   "metadata": {},
   "outputs": [
    {
     "name": "stdout",
     "output_type": "stream",
     "text": [
      "Sparsity: -9.964912280701755\n"
     ]
    }
   ],
   "source": [
    "\n",
    "total_possible_interactions = df['Name'].nunique() * df['Activity'].nunique()\n",
    "actual_interactions = df.shape[0]\n",
    "sparsity = 1 - actual_interactions / total_possible_interactions\n",
    "print(f'Sparsity: {sparsity}')\n"
   ]
  },
  {
   "cell_type": "code",
   "execution_count": null,
   "metadata": {},
   "outputs": [
    {
     "name": "stdout",
     "output_type": "stream",
     "text": [
      "Number of duplicate entries: 9797\n"
     ]
    }
   ],
   "source": [
    "duplicates = df.duplicated(subset=['Name', 'Activity'])\n",
    "print(f'Number of duplicate entries: {duplicates.sum()}')\n"
   ]
  },
  {
   "cell_type": "markdown",
   "metadata": {},
   "source": [
    "The number of duplicate entries in the dataset is quite high. This means that many user-activity pairs appear more than once. This could be the reason why the sparsity was calculated as a negative value."
   ]
  },
  {
   "cell_type": "markdown",
   "metadata": {},
   "source": [
    "Instead of treating each occurrence of an activity as a separate interaction, we could aggregate them and treat each unique user-activity pair as a single interaction. (nstead of counting each time someone did something, combine all the times someone did the same thing. So, if a person practice an activity several times, instead of counting each time separately, i can count it as a single occurrence. )"
   ]
  },
  {
   "cell_type": "code",
   "execution_count": null,
   "metadata": {},
   "outputs": [],
   "source": [
    "df = pd.read_csv('dataset_activities.csv')\n",
    "df_agg = df.groupby(['Name', 'Activity']).size().reset_index(name='Count')\n",
    "# Assuming df_agg is your aggregated DataFrame and 'Activity' is the column you want to recommend\n",
    "activity_matrix = pd.get_dummies(df_agg['Activity'])\n",
    "user_activity_matrix = pd.concat([df_agg['Name'], activity_matrix], axis=1)\n",
    "\n",
    "# Create a sparse matrix\n",
    "sparse_matrix = sparse.csr_matrix(user_activity_matrix.drop('Name', axis=1).values)\n",
    "\n",
    "# Calculate cosine similarity\n",
    "item_similarity = cosine_similarity(sparse_matrix.T)\n",
    "\n",
    "# Wrap the similarities in a DataFrame\n",
    "item_similarity_df = pd.DataFrame(item_similarity, index=user_activity_matrix.columns[1:], columns=user_activity_matrix.columns[1:])\n",
    "\n",
    "def recommend_activities3(user, top_n=5):\n",
    "    # Get the activities done by the user\n",
    "    user_activities = set(df_agg[df_agg['Name'] == user]['Activity'])\n",
    "\n",
    "    # Calculate a similarity score for each activity\n",
    "    similarity_score = item_similarity_df[list(user_activities)].mean(axis=1)\n",
    "\n",
    "    # Get the top n activities\n",
    "    top_activities = similarity_score.nlargest(top_n)\n",
    "\n",
    "    return top_activities.index.tolist()\n",
    "\n",
    "\n",
    "\n",
    "\n",
    "\n"
   ]
  },
  {
   "cell_type": "code",
   "execution_count": null,
   "metadata": {},
   "outputs": [
    {
     "name": "stdout",
     "output_type": "stream",
     "text": [
      "Alice, who likes outdoor_activities:  ['Beach Volleyball', 'Kayaking', 'Kite Flying', 'Meditation Retreat ', 'Skiing ']\n",
      "John, who likes physical_activities:  ['Beach Volleyball', 'Meditation Retreat ', 'Dancing', 'Gym Workout', 'Hair Salon Visit ']\n",
      "Jane, who likes artistic_activities:  ['Meditation Retreat ', 'Art Class', 'Art Gallery Visit', 'Ballet Attendance', 'Book Club Participation']\n",
      "Doe, who likes night_activities:  ['Hiking ', 'Movie Watching', 'Potluck Dinner', 'Stargazing', 'Walking the dog']\n",
      "Bob, who likes water_activities:  ['Kayaking', 'Rafting', 'Scuba Diving ', 'Surfing', 'Canoeing']\n",
      "Charlie, who likes sports_activities:  ['Beach Volleyball', 'Kite Flying', 'Rafting', 'Scuba Diving ', 'Skiing ']\n",
      "Eve, who likes home_activities:  ['Baking ', 'Cooking ', 'Gardening ', 'Hiking ', 'Meditation ']\n",
      "Mallory, who likes extreme_activities:  ['Kayaking', 'Kite Flying', 'Rafting', 'Scuba Diving ', 'Skiing ']\n"
     ]
    }
   ],
   "source": [
    "print('Alice, who likes outdoor_activities: ', recommend_activities3('Alice', 5))\n",
    "print('John, who likes physical_activities: ',recommend_activities3('John', 5))\n",
    "print('Jane, who likes artistic_activities: ',recommend_activities3('Jane', 5))\n",
    "print('Doe, who likes night_activities: ',recommend_activities3('Doe', 5))\n",
    "print('Bob, who likes water_activities: ',recommend_activities3('Bob', 5))\n",
    "print('Charlie, who likes sports_activities: ',recommend_activities3('Charlie', 5))\n",
    "print('Eve, who likes home_activities: ',recommend_activities3('Eve', 5))\n",
    "print('Mallory, who likes extreme_activities: ',recommend_activities3('Mallory', 5))"
   ]
  },
  {
   "cell_type": "markdown",
   "metadata": {},
   "source": [
    "Wow, it was perfect"
   ]
  },
  {
   "cell_type": "markdown",
   "metadata": {},
   "source": [
    "# Content-based recommendation"
   ]
  },
  {
   "cell_type": "markdown",
   "metadata": {},
   "source": [
    "### Collaborative filtering does NOT require any information about the items"
   ]
  },
  {
   "cell_type": "markdown",
   "metadata": {},
   "source": [
    "## Simple approach \n",
    "#### Compute the similarity of an unseen item with the user profile based on the keyword overlap (e.g. using the Dice coefficient)"
   ]
  },
  {
   "cell_type": "code",
   "execution_count": null,
   "metadata": {},
   "outputs": [],
   "source": [
    "from sklearn.feature_extraction.text import CountVectorizer\n",
    "df = pd.read_csv('dataset_activities.csv')\n",
    "# Combine all the relevant columns into a single 'content' column\n",
    "df['content'] = df[['Likes', 'Activity', 'Weather']].apply(lambda x: ' '.join(x), axis=1)\n",
    "\n",
    "# Create a CountVectorizer to create a matrix of token counts\n",
    "count = CountVectorizer()\n",
    "count_matrix = count.fit_transform(df['content'])\n",
    "\n",
    "# Compute the Cosine Similarity matrix (which is equivalent to Dice coefficient for binary data)\n",
    "cosine_sim = cosine_similarity(count_matrix, count_matrix)\n",
    "\n",
    "# Function that takes in a user name as input and outputs most similar users\n",
    "def get_recommendations(user, cosine_sim=cosine_sim):\n",
    "    # Get the index of the user that matches the name\n",
    "    idx = df[df['Name'] == user].index[0]\n",
    "\n",
    "    # Get the pairwsie similarity scores of all users with that user\n",
    "    sim_scores = list(enumerate(cosine_sim[idx]))\n",
    "\n",
    "    # Exclude the input user itself from the similarity scores\n",
    "    sim_scores = [sim_score for sim_score in sim_scores if df.iloc[sim_score[0]]['Name'] != user]\n",
    "\n",
    "    # Sort the users based on the similarity scores\n",
    "    sim_scores = sorted(sim_scores, key=lambda x: x[1], reverse=True)\n",
    "\n",
    "    # Print out the similarity scores\n",
    "    \n",
    "\n",
    "    # Get the scores of the 10 most similar users\n",
    "    sim_scores = sim_scores[:10]\n",
    "\n",
    "    # Get the user indices\n",
    "    user_indices = [i[0] for i in sim_scores]\n",
    "\n",
    "    # Return the top 10 most similar users\n",
    "    return df['Name'].iloc[user_indices]\n",
    "\n",
    "\n"
   ]
  },
  {
   "cell_type": "code",
   "execution_count": null,
   "metadata": {},
   "outputs": [
    {
     "name": "stdout",
     "output_type": "stream",
     "text": [
      "Alice, who likes outdoor_activities:  6      Charlie\n",
      "39         Doe\n",
      "46         Doe\n",
      "52         Eve\n",
      "60        Jane\n",
      "66         Eve\n",
      "146    Charlie\n",
      "341        Doe\n",
      "356    Charlie\n",
      "369        Doe\n",
      "Name: Name, dtype: object\n",
      "John, who likes physical_activities:  15         Doe\n",
      "76        Jane\n",
      "135    Mallory\n",
      "141       Jane\n",
      "165        Doe\n",
      "265        Doe\n",
      "354    Charlie\n",
      "357      Alice\n",
      "434        Bob\n",
      "442        Doe\n",
      "Name: Name, dtype: object\n",
      "Jane, who likes artistic_activities:  24        John\n",
      "72     Mallory\n",
      "86         Doe\n",
      "115        Doe\n",
      "124    Mallory\n",
      "136    Charlie\n",
      "235       John\n",
      "239        Bob\n",
      "300    Charlie\n",
      "577       John\n",
      "Name: Name, dtype: object\n",
      "Doe, who likes night_activities:  65        Jane\n",
      "90     Mallory\n",
      "122      Alice\n",
      "450      Alice\n",
      "467      Alice\n",
      "475        Eve\n",
      "532        Bob\n",
      "560       John\n",
      "684       Jane\n",
      "708       John\n",
      "Name: Name, dtype: object\n",
      "Bob, who likes water_activities:  298     Eve\n",
      "2258    Eve\n",
      "2532    Eve\n",
      "4142    Eve\n",
      "6970    Eve\n",
      "7996    Eve\n",
      "8461    Eve\n",
      "981     Eve\n",
      "1672    Eve\n",
      "1736    Eve\n",
      "Name: Name, dtype: object\n",
      "Charlie, who likes sports_activities:  530     Mallory\n",
      "1120    Mallory\n",
      "1630    Mallory\n",
      "1706    Mallory\n",
      "1789    Mallory\n",
      "2161    Mallory\n",
      "2239      Alice\n",
      "2295    Mallory\n",
      "2811    Mallory\n",
      "3019    Mallory\n",
      "Name: Name, dtype: object\n",
      "Eve, who likes home_activities:  6307    John\n",
      "248     John\n",
      "315     John\n",
      "626     John\n",
      "1532    John\n",
      "2503    John\n",
      "2637    John\n",
      "2644    John\n",
      "2941    John\n",
      "3234    John\n",
      "Name: Name, dtype: object\n",
      "Mallory, who likes extreme_activities:  276     John\n",
      "1565    John\n",
      "2379    John\n",
      "4408    John\n",
      "5070    John\n",
      "7631    John\n",
      "9195    John\n",
      "9585    John\n",
      "497     John\n",
      "1292    John\n",
      "Name: Name, dtype: object\n"
     ]
    }
   ],
   "source": [
    "print('Alice, who likes outdoor_activities: ', get_recommendations('Alice'))\n",
    "print('John, who likes physical_activities: ',get_recommendations('John'))\n",
    "print('Jane, who likes artistic_activities: ',get_recommendations('Jane'))\n",
    "print('Doe, who likes night_activities: ',get_recommendations('Doe'))\n",
    "print('Bob, who likes water_activities: ',get_recommendations('Bob'))\n",
    "print('Charlie, who likes sports_activities: ',get_recommendations('Charlie'))\n",
    "print('Eve, who likes home_activities: ',get_recommendations('Eve'))\n",
    "print('Mallory, who likes extreme_activities: ',get_recommendations('Mallory'))"
   ]
  },
  {
   "cell_type": "code",
   "execution_count": null,
   "metadata": {},
   "outputs": [
    {
     "name": "stdout",
     "output_type": "stream",
     "text": [
      "Alice, who likes outdoor_activities:  6     Movie Watching\n",
      "39    Movie Watching\n",
      "46    Movie Watching\n",
      "52    Movie Watching\n",
      "60    Movie Watching\n",
      "Name: Activity, dtype: object\n",
      "John, who likes physical_activities:  15     Hiking \n",
      "76     Hiking \n",
      "135    Hiking \n",
      "141    Hiking \n",
      "165    Hiking \n",
      "Name: Activity, dtype: object\n",
      "Jane, who likes artistic_activities:  24     Movie Watching\n",
      "72     Movie Watching\n",
      "86     Movie Watching\n",
      "115    Movie Watching\n",
      "124    Movie Watching\n",
      "Name: Activity, dtype: object\n",
      "Doe, who likes night_activities:  65     Hiking \n",
      "90     Hiking \n",
      "122    Hiking \n",
      "450    Hiking \n",
      "467    Hiking \n",
      "Name: Activity, dtype: object\n",
      "Bob, who likes water_activities:  298     Hot Spring Bath\n",
      "2258    Hot Spring Bath\n",
      "2532    Hot Spring Bath\n",
      "4142    Hot Spring Bath\n",
      "6970    Hot Spring Bath\n",
      "Name: Activity, dtype: object\n",
      "Charlie, who likes sports_activities:  530     Kite Flying\n",
      "1120    Kite Flying\n",
      "1630    Kite Flying\n",
      "1706    Kite Flying\n",
      "1789    Kite Flying\n",
      "Name: Activity, dtype: object\n",
      "Eve, who likes home_activities:  6307    Facial Treatment\n",
      "248     Facial Treatment\n",
      "315     Facial Treatment\n",
      "626     Facial Treatment\n",
      "1532    Facial Treatment\n",
      "Name: Activity, dtype: object\n",
      "Mallory, who likes extreme_activities:  276     Rock Climbing \n",
      "1565    Rock Climbing \n",
      "2379    Rock Climbing \n",
      "4408    Rock Climbing \n",
      "5070    Rock Climbing \n",
      "Name: Activity, dtype: object\n"
     ]
    }
   ],
   "source": [
    "def get_recommendations2(user, cosine_sim=cosine_sim):\n",
    "    # Get the index of the user that matches the name\n",
    "    idx = df[df['Name'] == user].index[0]\n",
    "\n",
    "    # Get the pairwsie similarity scores of all users with that user\n",
    "    sim_scores = list(enumerate(cosine_sim[idx]))\n",
    "\n",
    "    # Exclude the input user itself from the similarity scores\n",
    "    sim_scores = [sim_score for sim_score in sim_scores if df.iloc[sim_score[0]]['Name'] != user]\n",
    "\n",
    "    # Sort the users based on the similarity scores\n",
    "    sim_scores = sorted(sim_scores, key=lambda x: x[1], reverse=True)\n",
    "\n",
    "    # Get the scores of the 10 most similar users\n",
    "    sim_scores = sim_scores[:5]\n",
    "\n",
    "    # Get the user indices\n",
    "    user_indices = [i[0] for i in sim_scores]\n",
    "\n",
    "    # Get the activities of the top 10 most similar users\n",
    "    recommended_activities = df['Activity'].iloc[user_indices]\n",
    "\n",
    "    return recommended_activities\n",
    "\n",
    "print('Alice, who likes outdoor_activities: ', get_recommendations2('Alice'))\n",
    "print('John, who likes physical_activities: ',get_recommendations2('John'))\n",
    "print('Jane, who likes artistic_activities: ',get_recommendations2('Jane'))\n",
    "print('Doe, who likes night_activities: ',get_recommendations2('Doe'))\n",
    "print('Bob, who likes water_activities: ',get_recommendations2('Bob'))\n",
    "print('Charlie, who likes sports_activities: ',get_recommendations2('Charlie'))\n",
    "print('Eve, who likes home_activities: ',get_recommendations2('Eve'))\n",
    "print('Mallory, who likes extreme_activities: ',get_recommendations2('Mallory'))\n"
   ]
  },
  {
   "cell_type": "markdown",
   "metadata": {},
   "source": [
    "## Term-Frequency - Inverse Document Frequency (TF-IDF)"
   ]
  },
  {
   "cell_type": "code",
   "execution_count": null,
   "metadata": {},
   "outputs": [
    {
     "name": "stdout",
     "output_type": "stream",
     "text": [
      "Alice, who likes outdoor_activities:  6     Movie Watching\n",
      "7     Movie Watching\n",
      "19    Movie Watching\n",
      "24    Movie Watching\n",
      "39    Movie Watching\n",
      "Name: Activity, dtype: object\n",
      "John, who likes physical_activities:  5     Hiking \n",
      "15    Hiking \n",
      "65    Hiking \n",
      "71    Hiking \n",
      "76    Hiking \n",
      "Name: Activity, dtype: object\n",
      "Jane, who likes artistic_activities:  0     Movie Watching\n",
      "6     Movie Watching\n",
      "19    Movie Watching\n",
      "24    Movie Watching\n",
      "39    Movie Watching\n",
      "Name: Activity, dtype: object\n",
      "Doe, who likes night_activities:  12     Hiking \n",
      "65     Hiking \n",
      "76     Hiking \n",
      "90     Hiking \n",
      "122    Hiking \n",
      "Name: Activity, dtype: object\n",
      "Bob, who likes water_activities:  298     Hot Spring Bath\n",
      "981     Hot Spring Bath\n",
      "1672    Hot Spring Bath\n",
      "1736    Hot Spring Bath\n",
      "2004    Hot Spring Bath\n",
      "Name: Activity, dtype: object\n",
      "Charlie, who likes sports_activities:  92     Kite Flying\n",
      "333    Kite Flying\n",
      "367    Kite Flying\n",
      "430    Kite Flying\n",
      "451    Kite Flying\n",
      "Name: Activity, dtype: object\n",
      "Eve, who likes home_activities:  248     Facial Treatment\n",
      "315     Facial Treatment\n",
      "626     Facial Treatment\n",
      "1532    Facial Treatment\n",
      "2503    Facial Treatment\n",
      "Name: Activity, dtype: object\n",
      "Mallory, who likes extreme_activities:  276     Rock Climbing \n",
      "497     Rock Climbing \n",
      "1292    Rock Climbing \n",
      "1412    Rock Climbing \n",
      "1565    Rock Climbing \n",
      "Name: Activity, dtype: object\n"
     ]
    }
   ],
   "source": [
    "import pandas as pd\n",
    "from sklearn.metrics.pairwise import cosine_similarity\n",
    "from sklearn.feature_extraction.text import TfidfVectorizer\n",
    "\n",
    "tfidf = TfidfVectorizer()\n",
    "tfidf_matrix = tfidf.fit_transform(df['Activity'])\n",
    "\n",
    "# Compute the Cosine Similarity matrix\n",
    "cosine_sim = cosine_similarity(tfidf_matrix, tfidf_matrix)\n",
    "\n",
    "def get_recommendations3(user, cosine_sim=cosine_sim):\n",
    "    # Get the index of the user that matches the name\n",
    "    idx = df[df['Name'] == user].index[0]\n",
    "\n",
    "    # Get the pairwsie similarity scores of all users with that user\n",
    "    sim_scores = list(enumerate(cosine_sim[idx]))\n",
    "\n",
    "    # Exclude the input user itself from the similarity scores\n",
    "    sim_scores = [sim_score for sim_score in sim_scores if df.iloc[sim_score[0]]['Name'] != user]\n",
    "\n",
    "    # Sort the users based on the similarity scores\n",
    "    sim_scores = sorted(sim_scores, key=lambda x: x[1], reverse=True)\n",
    "\n",
    "    # Get the scores of the 10 most similar users\n",
    "    sim_scores = sim_scores[:5]\n",
    "\n",
    "    # Get the user indices\n",
    "    user_indices = [i[0] for i in sim_scores]\n",
    "\n",
    "    # Get the activities of the top 10 most similar users\n",
    "    recommended_activities = df['Activity'].iloc[user_indices]\n",
    "\n",
    "    return recommended_activities\n",
    "\n",
    "\n",
    "print('Alice, who likes outdoor_activities: ', get_recommendations3('Alice'))\n",
    "print('John, who likes physical_activities: ',get_recommendations3('John'))\n",
    "print('Jane, who likes artistic_activities: ',get_recommendations3('Jane'))\n",
    "print('Doe, who likes night_activities: ',get_recommendations3('Doe'))\n",
    "print('Bob, who likes water_activities: ',get_recommendations3('Bob'))\n",
    "print('Charlie, who likes sports_activities: ',get_recommendations3('Charlie'))\n",
    "print('Eve, who likes home_activities: ',get_recommendations3('Eve'))\n",
    "print('Mallory, who likes extreme_activities: ',get_recommendations3('Mallory'))\n",
    "\n"
   ]
  },
  {
   "cell_type": "markdown",
   "metadata": {},
   "source": [
    "## Term-Frequency - Inverse Document Frequency (TF-IDF) with nearest neighbors"
   ]
  },
  {
   "cell_type": "code",
   "execution_count": null,
   "metadata": {},
   "outputs": [
    {
     "name": "stdout",
     "output_type": "stream",
     "text": [
      "Alice, who likes outdoor_activities:  1536    Movie Watching\n",
      "2151    Movie Watching\n",
      "580     Movie Watching\n",
      "2263    Movie Watching\n",
      "513     Movie Watching\n",
      "Name: Activity, dtype: object\n",
      "John, who likes physical_activities:  566     Hiking \n",
      "1564    Hiking \n",
      "1295     Hiking\n",
      "572     Hiking \n",
      "1224    Hiking \n",
      "Name: Activity, dtype: object\n",
      "Jane, who likes artistic_activities:  1016    Movie Watching\n",
      "3996    Movie Watching\n",
      "4523    Movie Watching\n",
      "3146    Movie Watching\n",
      "4858    Movie Watching\n",
      "Name: Activity, dtype: object\n",
      "Doe, who likes night_activities:  149    Hiking \n",
      "215    Hiking \n",
      "306    Hiking \n",
      "501    Hiking \n",
      "178    Hiking \n",
      "Name: Activity, dtype: object\n",
      "Bob, who likes water_activities:  2868    Hot Spring Bath\n",
      "1523    Hot Spring Bath\n",
      "2463    Hot Spring Bath\n",
      "1873    Hot Spring Bath\n",
      "2487    Hot Spring Bath\n",
      "Name: Activity, dtype: object\n",
      "Charlie, who likes sports_activities:  779     Kite Flying\n",
      "6763    Kite Flying\n",
      "211     Kite Flying\n",
      "1278    Kite Flying\n",
      "812     Kite Flying\n",
      "Name: Activity, dtype: object\n",
      "Eve, who likes home_activities:  969     Facial Treatment\n",
      "5475    Facial Treatment\n",
      "6083    Facial Treatment\n",
      "2073    Facial Treatment\n",
      "3656    Facial Treatment\n",
      "Name: Activity, dtype: object\n",
      "Mallory, who likes extreme_activities:  143     Rock Climbing \n",
      "2830    Rock Climbing \n",
      "3014    Rock Climbing \n",
      "2951    Rock Climbing \n",
      "478     Rock Climbing \n",
      "Name: Activity, dtype: object\n"
     ]
    }
   ],
   "source": [
    "tfidf = TfidfVectorizer()\n",
    "tfidf_matrix = tfidf.fit_transform(df['content'])\n",
    "\n",
    "# Use NearestNeighbors from sklearn.neighbors to find nearest neighbors\n",
    "nn = NearestNeighbors(n_neighbors=5, metric='euclidean')\n",
    "nn.fit(tfidf_matrix)\n",
    "\n",
    "# Function that takes in a user name as input and outputs most similar users\n",
    "def get_recommendations4(user):\n",
    "    # Get the index of the user that matches the name\n",
    "    idx = df[df['Name'] == user].index[0]\n",
    "\n",
    "    # Use kneighbors to get the n nearest neighbors\n",
    "    distances, indices = nn.kneighbors(tfidf_matrix[idx], n_neighbors=6)\n",
    "\n",
    "    # Exclude the input user itself from the recommendations\n",
    "    indices = indices[indices != idx]\n",
    "\n",
    "    # Return the top 5 most similar users\n",
    "    return df['Activity'].iloc[indices]\n",
    "\n",
    "print('Alice, who likes outdoor_activities: ', get_recommendations4('Alice'))\n",
    "print('John, who likes physical_activities: ',get_recommendations4('John'))\n",
    "print('Jane, who likes artistic_activities: ',get_recommendations4('Jane'))\n",
    "print('Doe, who likes night_activities: ',get_recommendations4('Doe'))\n",
    "print('Bob, who likes water_activities: ',get_recommendations4('Bob'))\n",
    "print('Charlie, who likes sports_activities: ',get_recommendations4('Charlie'))\n",
    "print('Eve, who likes home_activities: ',get_recommendations4('Eve'))\n",
    "print('Mallory, who likes extreme_activities: ',get_recommendations4('Mallory'))\n"
   ]
  },
  {
   "cell_type": "markdown",
   "metadata": {},
   "source": [
    "# Knowledge-based recommendation systems \n",
    "are a type of recommender system that suggest items based on explicit knowledge about the item or user preferences.\n",
    "\n",
    " They are particularly useful when there is little past interaction data available for a user.\n",
    "\n",
    "Deterministic recommendations, assured quality, no coldstart, can resemble sales dialogue"
   ]
  },
  {
   "cell_type": "code",
   "execution_count": null,
   "metadata": {},
   "outputs": [
    {
     "name": "stdout",
     "output_type": "stream",
     "text": [
      "87      Rock Climbing \n",
      "99     Walking the dog\n",
      "152            Hiking \n",
      "227    Walking the dog\n",
      "246     Potluck Dinner\n",
      "Name: Activity, dtype: object\n"
     ]
    }
   ],
   "source": [
    "class KnowledgeBasedRecommender:\n",
    "    def __init__(self, df):\n",
    "        self.df = df\n",
    "\n",
    "    def recommend(self, preferences):\n",
    "        # Filter the dataframe based on the user's preferences\n",
    "        for key, value in preferences.items():\n",
    "            self.df = self.df[self.df[key] == value]\n",
    "\n",
    "        # Return the recommended activities\n",
    "        return self.df['Activity']\n",
    "\n",
    "df = pd.read_csv('dataset_activities.csv')\n",
    "# Initialize the recommender with dataframe\n",
    "recommender = KnowledgeBasedRecommender(df)\n",
    "\n",
    "# Define the user's preferences\n",
    "preferences = {\n",
    "    'Likes': 'extreme_activities',\n",
    "    'Weather': 'Snowy',\n",
    "    \n",
    "}\n",
    "\n",
    "# Get the recommendations\n",
    "recommendations = recommender.recommend(preferences)\n",
    "print(recommendations.head(5))\n"
   ]
  },
  {
   "cell_type": "markdown",
   "metadata": {},
   "source": [
    "## Using Similarity functions (fuzzywuzzy)"
   ]
  },
  {
   "cell_type": "code",
   "execution_count": null,
   "metadata": {},
   "outputs": [
    {
     "name": "stderr",
     "output_type": "stream",
     "text": [
      "C:\\Users\\andre\\AppData\\Local\\Packages\\PythonSoftwareFoundation.Python.3.9_qbz5n2kfra8p0\\LocalCache\\local-packages\\Python39\\site-packages\\fuzzywuzzy\\fuzz.py:11: UserWarning: Using slow pure-python SequenceMatcher. Install python-Levenshtein to remove this warning\n",
      "  warnings.warn('Using slow pure-python SequenceMatcher. Install python-Levenshtein to remove this warning')\n"
     ]
    },
    {
     "name": "stdout",
     "output_type": "stream",
     "text": [
      "7594    Walking the dog\n",
      "2144         Stargazing\n",
      "6259            Skiing \n",
      "4533            Surfing\n",
      "405      Potluck Dinner\n",
      "Name: Activity, dtype: object\n"
     ]
    }
   ],
   "source": [
    "from fuzzywuzzy import fuzz\n",
    "\n",
    "class KnowledgeBasedRecommender:\n",
    "    def __init__(self, df):\n",
    "        self.df = df\n",
    "\n",
    "    def recommend(self, preferences):\n",
    "        scores = []\n",
    "\n",
    "        # Calculate the similarity score for each item\n",
    "        for _, row in self.df.iterrows():\n",
    "            score = 0\n",
    "            for key, value in preferences.items():\n",
    "                score += fuzz.ratio(str(row[key]), value)\n",
    "            scores.append(score / len(preferences))\n",
    "\n",
    "        # Add the similarity scores to the dataframe\n",
    "        self.df['Score'] = scores\n",
    "\n",
    "        # Sort the dataframe by the similarity scores\n",
    "        self.df = self.df.sort_values('Score', ascending=False)\n",
    "\n",
    "        # Return the recommended activities\n",
    "        return self.df['Activity']\n",
    "\n",
    "# Initialize the recommender with dataframe\n",
    "recommender = KnowledgeBasedRecommender(df)\n",
    "\n",
    "# Define the user's preferences\n",
    "preferences = {\n",
    "    'Likes': 'extreme_activities',\n",
    "    'Weather': 'Snowy',\n",
    "}\n",
    "\n",
    "# Get the recommendations\n",
    "recommendations = recommender.recommend(preferences)\n",
    "print(recommendations.head(5))\n"
   ]
  },
  {
   "cell_type": "markdown",
   "metadata": {},
   "source": [
    "## Utility-based RS § E.g. MAUT – Multi-attribute utility theory"
   ]
  },
  {
   "cell_type": "code",
   "execution_count": 9,
   "metadata": {},
   "outputs": [
    {
     "name": "stdout",
     "output_type": "stream",
     "text": [
      "1484           Archery\n",
      "6298    Rock Climbing \n",
      "3354           Hiking \n",
      "284           Kayaking\n",
      "7156       Ice Skating\n",
      "Name: Activity, dtype: object\n"
     ]
    }
   ],
   "source": [
    "class MAUTRecommender:\n",
    "    def __init__(self, df):\n",
    "        self.df = df\n",
    "\n",
    "    def recommend(self, preferences, weights):\n",
    "        scores = []\n",
    "\n",
    "        # Calculate the utility score for each item\n",
    "        for _, row in self.df.iterrows():\n",
    "            score = 0\n",
    "            for key, value in preferences.items():\n",
    "                if str(row[key]) == value:\n",
    "                    score += weights[key]\n",
    "            scores.append(score)\n",
    "\n",
    "        # Add the utility scores to the dataframe\n",
    "        self.df['Score'] = scores\n",
    "\n",
    "        # Sort the dataframe by the utility scores\n",
    "        self.df = self.df.sort_values('Score', ascending=False)\n",
    "\n",
    "        # Return the recommended activities\n",
    "        return self.df['Activity']\n",
    "\n",
    "\n",
    "df = pd.read_csv('dataset_activities.csv')\n",
    "# Initialize the recommender with dataframe\n",
    "recommender = MAUTRecommender(df)\n",
    "\n",
    "# Define the user's preferences\n",
    "preferences = {\n",
    "    'Likes': 'extreme_activities',\n",
    "    'Weather': 'Snowy',\n",
    "}\n",
    "\n",
    "# Define the weights for each attribute\n",
    "weights = {\n",
    "    'Likes': 0.7,\n",
    "    'Weather': 0.3,\n",
    "}\n",
    "\n",
    "# Get the recommendations\n",
    "recommendations = recommender.recommend(preferences, weights)\n",
    "print(recommendations.head(5))\n"
   ]
  },
  {
   "cell_type": "code",
   "execution_count": null,
   "metadata": {},
   "outputs": [
    {
     "data": {
      "text/plain": [
       "\"\\nimport pandas as pd\\nfrom sklearn import preprocessing\\nfrom sklearn.model_selection import train_test_split\\nfrom sklearn import svm\\nfrom sklearn.preprocessing import OneHotEncoder\\n\\n# Load dataset\\ndf = pd.read_csv('dataset_activities.csv')\\n\\n# New data\\nnew_data = pd.DataFrame({\\n    'Name': ['Alice'],\\n    'Likes': ['outdoor_activities'],\\n    'Local': ['Campbellfort'],\\n    'Date': ['2023-09-28'],\\n    'Hour': ['10:00'],\\n    'Weather': ['Sunny']\\n})\\n\\n# Define categorical features\\ncategorical_features = ['Name', 'Likes', 'Local', 'Date', 'Hour', 'Weather']\\n\\n# Apply OneHotEncoder to categorical features\\none_hot = OneHotEncoder()\\none_hot.fit(df[categorical_features])\\ndf_encoded = one_hot.transform(df[categorical_features]).toarray()\\nnew_data_encoded = one_hot.transform(new_data).toarray()\\n\\n# Apply LabelEncoder to target variable 'Activity'\\nle = preprocessing.LabelEncoder()\\ndf['Activity'] = le.fit_transform(df['Activity'])\\n\\n# Split your data into features (X) and target (y)\\nX = df_encoded\\ny = df['Activity']\\n\\n# Split your data into training and test sets\\nX_train, X_test, y_train, y_test = train_test_split(X, y, test_size=0.2, random_state=42)\\n\\n# Create your SVM\\nclf = svm.SVC()\\n\\n# Train your SVM\\nclf.fit(X_train, y_train)\\n\\n\\n\""
      ]
     },
     "execution_count": 28,
     "metadata": {},
     "output_type": "execute_result"
    }
   ],
   "source": [
    "'''\n",
    "import pandas as pd\n",
    "from sklearn import preprocessing\n",
    "from sklearn.model_selection import train_test_split\n",
    "from sklearn import svm\n",
    "from sklearn.preprocessing import OneHotEncoder\n",
    "\n",
    "# Load dataset\n",
    "df = pd.read_csv('dataset_activities.csv')\n",
    "\n",
    "# New data\n",
    "new_data = pd.DataFrame({\n",
    "    'Name': ['Alice'],\n",
    "    'Likes': ['outdoor_activities'],\n",
    "    'Local': ['Campbellfort'],\n",
    "    'Date': ['2023-09-28'],\n",
    "    'Hour': ['10:00'],\n",
    "    'Weather': ['Sunny']\n",
    "})\n",
    "\n",
    "# Define categorical features\n",
    "categorical_features = ['Name', 'Likes', 'Local', 'Date', 'Hour', 'Weather']\n",
    "\n",
    "# Apply OneHotEncoder to categorical features\n",
    "one_hot = OneHotEncoder()\n",
    "one_hot.fit(df[categorical_features])\n",
    "df_encoded = one_hot.transform(df[categorical_features]).toarray()\n",
    "new_data_encoded = one_hot.transform(new_data).toarray()\n",
    "\n",
    "# Apply LabelEncoder to target variable 'Activity'\n",
    "le = preprocessing.LabelEncoder()\n",
    "df['Activity'] = le.fit_transform(df['Activity'])\n",
    "\n",
    "# Split your data into features (X) and target (y)\n",
    "X = df_encoded\n",
    "y = df['Activity']\n",
    "\n",
    "# Split your data into training and test sets\n",
    "X_train, X_test, y_train, y_test = train_test_split(X, y, test_size=0.2, random_state=42)\n",
    "\n",
    "# Create your SVM\n",
    "clf = svm.SVC()\n",
    "\n",
    "# Train your SVM\n",
    "clf.fit(X_train, y_train)\n",
    "\n",
    "\n",
    "'''\n",
    "\n",
    "\n"
   ]
  },
  {
   "cell_type": "code",
   "execution_count": null,
   "metadata": {},
   "outputs": [
    {
     "data": {
      "text/plain": [
       "\"from sklearn.metrics import accuracy_score, f1_score\\ny_pred = clf.predict(X_test)\\n\\naccuracy = accuracy_score(y_test, y_pred)\\nprint(f'Accuracy: {accuracy}')\\n\\n# Calculate the F1 score\\nf1 = f1_score(y_test, y_pred, average='weighted')  # Use 'weighted' for multi-class classification\\nprint(f'F1 Score: {f1}')\\n# Print the predicted activity\\npredicted_activity = clf.predict(new_data_encoded)\\nprint(predicted_activity)  # Inverse transform the predicted label\\npredicted_activity_name = le.inverse_transform(predicted_activity)\\n\\n# Print the predicted activity\\nprint(predicted_activity_name)\\n\""
      ]
     },
     "execution_count": 29,
     "metadata": {},
     "output_type": "execute_result"
    }
   ],
   "source": [
    "'''from sklearn.metrics import accuracy_score, f1_score\n",
    "y_pred = clf.predict(X_test)\n",
    "\n",
    "accuracy = accuracy_score(y_test, y_pred)\n",
    "print(f'Accuracy: {accuracy}')\n",
    "\n",
    "# Calculate the F1 score\n",
    "f1 = f1_score(y_test, y_pred, average='weighted')  # Use 'weighted' for multi-class classification\n",
    "print(f'F1 Score: {f1}')\n",
    "# Print the predicted activity\n",
    "predicted_activity = clf.predict(new_data_encoded)\n",
    "print(predicted_activity)  # Inverse transform the predicted label\n",
    "predicted_activity_name = le.inverse_transform(predicted_activity)\n",
    "\n",
    "# Print the predicted activity\n",
    "print(predicted_activity_name)\n",
    "'''"
   ]
  }
 ],
 "metadata": {
  "kernelspec": {
   "display_name": "Python 3",
   "language": "python",
   "name": "python3"
  },
  "language_info": {
   "codemirror_mode": {
    "name": "ipython",
    "version": 3
   },
   "file_extension": ".py",
   "mimetype": "text/x-python",
   "name": "python",
   "nbconvert_exporter": "python",
   "pygments_lexer": "ipython3",
   "version": "3.9.13"
  }
 },
 "nbformat": 4,
 "nbformat_minor": 2
}
